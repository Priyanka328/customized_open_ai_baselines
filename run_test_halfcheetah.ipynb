{
 "cells": [
  {
   "cell_type": "markdown",
   "metadata": {},
   "source": [
    "# Run tests with Half Cheetah"
   ]
  },
  {
   "cell_type": "code",
   "execution_count": 1,
   "metadata": {},
   "outputs": [],
   "source": [
    "# !python -m baselines.ddpg_custom.main --env-id HalfCheetah-v2 --nb-epochs 1000 --gamma 0.999  --nb-epoch-cycles 1 --nb-rollout-steps 10000 --critic-lr 5e-4 --noise-type 'adaptive-param_0.2' --seed 0 "
   ]
  },
  {
   "cell_type": "code",
   "execution_count": null,
   "metadata": {},
   "outputs": [
    {
     "name": "stdout",
     "output_type": "stream",
     "text": [
      "Logging to /tmp/openai-2018-09-13-06-05-32-979197\n",
      "Text name: ddpg_halfcheetah_seed1.txt\n",
      "/root/github/gym/gym/__init__.py:22: UserWarning: DEPRECATION WARNING: to improve load times, gym no longer automatically loads gym.spaces. Please run \"import gym.spaces\" to load gym.spaces on your own. This warning will turn into an error in a future version of gym.\n",
      "  warnings.warn('DEPRECATION WARNING: to improve load times, gym no longer automatically loads gym.spaces. Please run \"import gym.spaces\" to load gym.spaces on your own. This warning will turn into an error in a future version of gym.')\n",
      "\u001b[33mWARN: gym.spaces.Box autodetected dtype as <class 'numpy.float32'>. Please provide explicit dtype.\u001b[0m\n",
      "\u001b[33mWARN: gym.spaces.Box autodetected dtype as <class 'numpy.float32'>. Please provide explicit dtype.\u001b[0m\n",
      "\n",
      "\n",
      "\n",
      " rank:[0] \n",
      "\n",
      "\n",
      "\n",
      "\n",
      "\n",
      "\n",
      " Evaluation. \n",
      "\n",
      "\n",
      "\n",
      "\u001b[33mWARN: gym.spaces.Box autodetected dtype as <class 'numpy.float32'>. Please provide explicit dtype.\u001b[0m\n",
      "\u001b[33mWARN: gym.spaces.Box autodetected dtype as <class 'numpy.float32'>. Please provide explicit dtype.\u001b[0m\n",
      "noise_type: adaptive-param_0.2\n",
      "current_noise_type: adaptive-param_0.2\n",
      "rank 0: seed=1, logdir=/tmp/openai-2018-09-13-06-05-32-979197\n",
      "scaling actions by [1. 1. 1. 1. 1. 1.] before executing in env\n",
      "\n",
      "\n",
      " actor_lr:0.0001 critic_lr:0.0005\n",
      "\n",
      "\n",
      "[DDPG] gamma:0.9990 tau:0.0010 actor_lr:0.0001 critic_lr:0.0005\n",
      "setting up param noise\n",
      "  param_noise_actor/dense/kernel:0 <- actor/dense/kernel:0 + noise\n",
      "  param_noise_actor/dense/bias:0 <- actor/dense/bias:0 + noise\n",
      "  param_noise_actor/LayerNorm/beta:0 <- actor/LayerNorm/beta:0\n",
      "  param_noise_actor/LayerNorm/gamma:0 <- actor/LayerNorm/gamma:0\n",
      "  param_noise_actor/dense_1/kernel:0 <- actor/dense_1/kernel:0 + noise\n",
      "  param_noise_actor/dense_1/bias:0 <- actor/dense_1/bias:0 + noise\n",
      "  param_noise_actor/LayerNorm_1/beta:0 <- actor/LayerNorm_1/beta:0\n",
      "  param_noise_actor/LayerNorm_1/gamma:0 <- actor/LayerNorm_1/gamma:0\n",
      "  param_noise_actor/dense_2/kernel:0 <- actor/dense_2/kernel:0 + noise\n",
      "  param_noise_actor/dense_2/bias:0 <- actor/dense_2/bias:0 + noise\n",
      "  adaptive_param_noise_actor/dense/kernel:0 <- actor/dense/kernel:0 + noise\n",
      "  adaptive_param_noise_actor/dense/bias:0 <- actor/dense/bias:0 + noise\n",
      "  adaptive_param_noise_actor/LayerNorm/beta:0 <- actor/LayerNorm/beta:0\n",
      "  adaptive_param_noise_actor/LayerNorm/gamma:0 <- actor/LayerNorm/gamma:0\n",
      "  adaptive_param_noise_actor/dense_1/kernel:0 <- actor/dense_1/kernel:0 + noise\n",
      "  adaptive_param_noise_actor/dense_1/bias:0 <- actor/dense_1/bias:0 + noise\n",
      "  adaptive_param_noise_actor/LayerNorm_1/beta:0 <- actor/LayerNorm_1/beta:0\n",
      "  adaptive_param_noise_actor/LayerNorm_1/gamma:0 <- actor/LayerNorm_1/gamma:0\n",
      "  adaptive_param_noise_actor/dense_2/kernel:0 <- actor/dense_2/kernel:0 + noise\n",
      "  adaptive_param_noise_actor/dense_2/bias:0 <- actor/dense_2/bias:0 + noise\n",
      "setting up actor optimizer\n",
      "  actor shapes: [[17, 64], [64], [64], [64], [64, 64], [64], [64], [64], [64, 6], [6]]\n",
      "  actor params: 5958\n",
      "setting up critic optimizer\n",
      "  regularizing: critic/dense/kernel:0\n",
      "  regularizing: critic/dense_1/kernel:0\n",
      "  regularizing: critic/dense_2/kernel:0\n",
      "  applying l2 regularization with 0.01\n",
      "  critic shapes: [[17, 64], [64], [64], [64], [70, 64], [64], [64], [64], [64, 1], [1]]\n",
      "  critic params: 6017\n",
      "WARNING:tensorflow:From /root/github/customized_open_ai_baselines/baselines/ddpg_custom/ddpg.py:29: calling reduce_mean (from tensorflow.python.ops.math_ops) with keep_dims is deprecated and will be removed in a future version.\n",
      "Instructions for updating:\n",
      "keep_dims is deprecated, use keepdims instead\n",
      "setting up target updates ...\n",
      "  target_actor/dense/kernel:0 <- actor/dense/kernel:0\n",
      "  target_actor/dense/bias:0 <- actor/dense/bias:0\n",
      "  target_actor/LayerNorm/beta:0 <- actor/LayerNorm/beta:0\n",
      "  target_actor/LayerNorm/gamma:0 <- actor/LayerNorm/gamma:0\n",
      "  target_actor/dense_1/kernel:0 <- actor/dense_1/kernel:0\n",
      "  target_actor/dense_1/bias:0 <- actor/dense_1/bias:0\n",
      "  target_actor/LayerNorm_1/beta:0 <- actor/LayerNorm_1/beta:0\n",
      "  target_actor/LayerNorm_1/gamma:0 <- actor/LayerNorm_1/gamma:0\n",
      "  target_actor/dense_2/kernel:0 <- actor/dense_2/kernel:0\n",
      "  target_actor/dense_2/bias:0 <- actor/dense_2/bias:0\n",
      "setting up target updates ...\n",
      "  target_critic/dense/kernel:0 <- critic/dense/kernel:0\n",
      "  target_critic/dense/bias:0 <- critic/dense/bias:0\n",
      "  target_critic/LayerNorm/beta:0 <- critic/LayerNorm/beta:0\n",
      "  target_critic/LayerNorm/gamma:0 <- critic/LayerNorm/gamma:0\n",
      "  target_critic/dense_1/kernel:0 <- critic/dense_1/kernel:0\n",
      "  target_critic/dense_1/bias:0 <- critic/dense_1/bias:0\n",
      "  target_critic/LayerNorm_1/beta:0 <- critic/LayerNorm_1/beta:0\n",
      "  target_critic/LayerNorm_1/gamma:0 <- critic/LayerNorm_1/gamma:0\n",
      "  target_critic/dense_2/kernel:0 <- critic/dense_2/kernel:0\n",
      "  target_critic/dense_2/bias:0 <- critic/dense_2/bias:0\n",
      "Using agent with the following configuration:\n",
      "dict_items([('batch_size', 64), ('actor_optimizer', <baselines.common.mpi_adam.MpiAdam object at 0x7f399075d2e8>), ('stats_sample', None), ('ret_rms', None), ('clip_norm', None), ('actor_grads', <tf.Tensor 'concat:0' shape=(5958,) dtype=float32>), ('normalize_observations', True), ('critic_l2_reg', 0.01), ('critic_target', <tf.Tensor 'critic_target:0' shape=(?, 1) dtype=float32>), ('actor_lr', 0.0001), ('critic_tf', <tf.Tensor 'clip_by_value_2:0' shape=(?, 1) dtype=float32>), ('critic_loss', <tf.Tensor 'add_13:0' shape=() dtype=float32>), ('return_range', (-inf, inf)), ('critic', <baselines.ddpg_custom.models.Critic object at 0x7f3997e97358>), ('normalize_returns', False), ('obs0', <tf.Tensor 'obs0:0' shape=(?, 17) dtype=float32>), ('critic_optimizer', <baselines.common.mpi_adam.MpiAdam object at 0x7f398df8c828>), ('actions', <tf.Tensor 'actions:0' shape=(?, 6) dtype=float32>), ('stats_ops', [<tf.Tensor 'Mean_3:0' shape=() dtype=float32>, <tf.Tensor 'Mean_4:0' shape=() dtype=float32>, <tf.Tensor 'Mean_5:0' shape=() dtype=float32>, <tf.Tensor 'Sqrt_1:0' shape=() dtype=float32>, <tf.Tensor 'Mean_8:0' shape=() dtype=float32>, <tf.Tensor 'Sqrt_2:0' shape=() dtype=float32>, <tf.Tensor 'Mean_11:0' shape=() dtype=float32>, <tf.Tensor 'Sqrt_3:0' shape=() dtype=float32>, <tf.Tensor 'Mean_14:0' shape=() dtype=float32>, <tf.Tensor 'Sqrt_4:0' shape=() dtype=float32>]), ('observation_range', (-5.0, 5.0)), ('action_range', (-1.0, 1.0)), ('param_noise_stddev', <tf.Tensor 'param_noise_stddev:0' shape=() dtype=float32>), ('perturb_policy_ops', <tf.Operation 'group_deps' type=NoOp>), ('enable_popart', False), ('target_soft_updates', [<tf.Operation 'group_deps_5' type=NoOp>, <tf.Operation 'group_deps_7' type=NoOp>]), ('memory', <baselines.ddpg_custom.memory.Memory object at 0x7f3997e971d0>), ('stats_names', ['obs_rms_mean', 'obs_rms_std', 'reference_Q_mean', 'reference_Q_std', 'reference_actor_Q_mean', 'reference_actor_Q_std', 'reference_action_mean', 'reference_action_std', 'reference_perturbed_action_mean', 'reference_perturbed_action_std']), ('critic_with_actor_tf', <tf.Tensor 'clip_by_value_3:0' shape=(?, 1) dtype=float32>), ('normalized_critic_tf', <tf.Tensor 'critic/dense_2/BiasAdd:0' shape=(?, 1) dtype=float32>), ('normalized_critic_with_actor_tf', <tf.Tensor 'critic_1/dense_2/BiasAdd:0' shape=(?, 1) dtype=float32>), ('critic_grads', <tf.Tensor 'concat_2:0' shape=(6017,) dtype=float32>), ('target_Q', <tf.Tensor 'add:0' shape=(?, 1) dtype=float32>), ('terminals1', <tf.Tensor 'terminals1:0' shape=(?, 1) dtype=float32>), ('obs_rms', <baselines.common.mpi_running_mean_std.RunningMeanStd object at 0x7f3997e97e10>), ('action_noise', None), ('critic_lr', 0.0005), ('actor', <baselines.ddpg_custom.models.Actor object at 0x7f3997e97390>), ('perturb_adaptive_policy_ops', <tf.Operation 'group_deps_1' type=NoOp>), ('rewards', <tf.Tensor 'rewards:0' shape=(?, 1) dtype=float32>), ('obs1', <tf.Tensor 'obs1:0' shape=(?, 17) dtype=float32>), ('param_noise', AdaptiveParamNoiseSpec(initial_stddev=0.2, desired_action_stddev=0.2, adoption_coefficient=1.01)), ('adaptive_policy_distance', <tf.Tensor 'Sqrt:0' shape=() dtype=float32>), ('reward_scale', 1.0), ('actor_loss', <tf.Tensor 'Neg:0' shape=() dtype=float32>), ('actor_tf', <tf.Tensor 'actor/Tanh:0' shape=(?, 6) dtype=float32>), ('target_critic', <baselines.ddpg_custom.models.Critic object at 0x7f3997e97978>), ('perturbed_actor_tf', <tf.Tensor 'param_noise_actor/Tanh:0' shape=(?, 6) dtype=float32>), ('target_init_updates', [<tf.Operation 'group_deps_4' type=NoOp>, <tf.Operation 'group_deps_6' type=NoOp>]), ('gamma', 0.999), ('tau', 0.001), ('target_actor', <baselines.ddpg_custom.models.Actor object at 0x7f39956edda0>)])\n"
     ]
    },
    {
     "name": "stdout",
     "output_type": "stream",
     "text": [
      "2018-09-13 06:05:34.995396: I tensorflow/core/platform/cpu_feature_guard.cc:140] Your CPU supports instructions that this TensorFlow binary was not compiled to use: SSE4.1 SSE4.2 AVX AVX2 FMA\n",
      "2018-09-13 06:05:35.374614: I tensorflow/core/common_runtime/gpu/gpu_device.cc:1356] Found device 0 with properties: \n",
      "name: Tesla P40 major: 6 minor: 1 memoryClockRate(GHz): 1.531\n",
      "pciBusID: 0000:08:00.0\n",
      "totalMemory: 22.38GiB freeMemory: 21.75GiB\n",
      "2018-09-13 06:05:35.374878: I tensorflow/core/common_runtime/gpu/gpu_device.cc:1435] Adding visible gpu devices: 0\n",
      "2018-09-13 06:05:35.761696: I tensorflow/core/common_runtime/gpu/gpu_device.cc:923] Device interconnect StreamExecutor with strength 1 edge matrix:\n",
      "2018-09-13 06:05:35.761776: I tensorflow/core/common_runtime/gpu/gpu_device.cc:929]      0 \n",
      "2018-09-13 06:05:35.761792: I tensorflow/core/common_runtime/gpu/gpu_device.cc:942] 0:   N \n",
      "2018-09-13 06:05:35.762425: I tensorflow/core/common_runtime/gpu/gpu_device.cc:1053] Created TensorFlow device (/job:localhost/replica:0/task:0/device:GPU:0 with 21103 MB memory) -> physical GPU (device: 0, name: Tesla P40, pci bus id: 0000:08:00.0, compute capability: 6.1)\n"
     ]
    }
   ],
   "source": [
    "!python -m baselines.ddpg_custom.main --env-id HalfCheetah-v2 --nb-epochs 1000 --gamma 0.999  --nb-epoch-cycles 1 --nb-rollout-steps 10000 --critic-lr 5e-4 --noise-type 'adaptive-param_0.2' --seed 1  "
   ]
  },
  {
   "cell_type": "code",
   "execution_count": null,
   "metadata": {},
   "outputs": [],
   "source": [
    "!python -m baselines.ddpg_custom.main --env-id HalfCheetah-v2 --nb-epochs 1000 --gamma 0.999  --nb-epoch-cycles 1 --nb-rollout-steps 10000 --critic-lr 5e-4 --noise-type 'adaptive-param_0.2' --seed 2  "
   ]
  },
  {
   "cell_type": "code",
   "execution_count": null,
   "metadata": {},
   "outputs": [],
   "source": [
    "!python -m baselines.ddpg_custom.main --env-id HalfCheetah-v2 --nb-epochs 1000 --gamma 0.999  --nb-epoch-cycles 1 --nb-rollout-steps 10000 --critic-lr 5e-4 --noise-type 'adaptive-param_0.2' --seed 3  "
   ]
  },
  {
   "cell_type": "code",
   "execution_count": null,
   "metadata": {},
   "outputs": [],
   "source": []
  }
 ],
 "metadata": {
  "kernelspec": {
   "display_name": "Python 3",
   "language": "python",
   "name": "python3"
  },
  "language_info": {
   "codemirror_mode": {
    "name": "ipython",
    "version": 3
   },
   "file_extension": ".py",
   "mimetype": "text/x-python",
   "name": "python",
   "nbconvert_exporter": "python",
   "pygments_lexer": "ipython3",
   "version": "3.5.2"
  }
 },
 "nbformat": 4,
 "nbformat_minor": 2
}
